{
 "cells": [
  {
   "cell_type": "code",
   "execution_count": 1,
   "id": "ba94a296-b18e-4c89-806b-5ed1d0c22194",
   "metadata": {},
   "outputs": [],
   "source": [
    "import numpy as np\n",
    "import pandas as pd\n",
    "import pickle\n",
    "from sklearn import datasets # sklearn comes with some toy datasets to practice\n",
    "from sklearn.preprocessing import StandardScaler\n",
    "from sklearn.cluster import KMeans\n",
    "import matplotlib.pyplot as plt\n",
    "from sklearn.metrics import silhouette_score"
   ]
  },
  {
   "cell_type": "code",
   "execution_count": 2,
   "id": "c4e0a621-2eaa-41f0-b0cd-517fe9a57dcf",
   "metadata": {},
   "outputs": [],
   "source": [
    "url = 'song_df.csv'\n",
    "df = pd.read_csv(url)"
   ]
  },
  {
   "cell_type": "markdown",
   "id": "8dab8bf7-7c1a-45f9-b9f8-980ef03acf41",
   "metadata": {},
   "source": [
    "## Clean df"
   ]
  },
  {
   "cell_type": "code",
   "execution_count": 5,
   "id": "b585f465-54a5-4aee-a407-79b58234f3ee",
   "metadata": {},
   "outputs": [
    {
     "data": {
      "text/html": [
       "<div>\n",
       "<style scoped>\n",
       "    .dataframe tbody tr th:only-of-type {\n",
       "        vertical-align: middle;\n",
       "    }\n",
       "\n",
       "    .dataframe tbody tr th {\n",
       "        vertical-align: top;\n",
       "    }\n",
       "\n",
       "    .dataframe thead th {\n",
       "        text-align: right;\n",
       "    }\n",
       "</style>\n",
       "<table border=\"1\" class=\"dataframe\">\n",
       "  <thead>\n",
       "    <tr style=\"text-align: right;\">\n",
       "      <th></th>\n",
       "      <th>danceability</th>\n",
       "      <th>energy</th>\n",
       "      <th>key</th>\n",
       "      <th>loudness</th>\n",
       "      <th>mode</th>\n",
       "      <th>speechiness</th>\n",
       "      <th>acousticness</th>\n",
       "      <th>instrumentalness</th>\n",
       "      <th>liveness</th>\n",
       "      <th>valence</th>\n",
       "      <th>tempo</th>\n",
       "      <th>duration_ms</th>\n",
       "      <th>time_signature</th>\n",
       "    </tr>\n",
       "  </thead>\n",
       "  <tbody>\n",
       "    <tr>\n",
       "      <th>0</th>\n",
       "      <td>0.741</td>\n",
       "      <td>0.520</td>\n",
       "      <td>8</td>\n",
       "      <td>-7.513</td>\n",
       "      <td>1</td>\n",
       "      <td>0.0656</td>\n",
       "      <td>0.45000</td>\n",
       "      <td>0.000002</td>\n",
       "      <td>0.2220</td>\n",
       "      <td>0.3470</td>\n",
       "      <td>102.998</td>\n",
       "      <td>171030</td>\n",
       "      <td>4</td>\n",
       "    </tr>\n",
       "    <tr>\n",
       "      <th>1</th>\n",
       "      <td>0.549</td>\n",
       "      <td>0.396</td>\n",
       "      <td>8</td>\n",
       "      <td>-8.435</td>\n",
       "      <td>0</td>\n",
       "      <td>0.4370</td>\n",
       "      <td>0.16800</td>\n",
       "      <td>0.077700</td>\n",
       "      <td>0.1470</td>\n",
       "      <td>0.2840</td>\n",
       "      <td>79.494</td>\n",
       "      <td>141452</td>\n",
       "      <td>4</td>\n",
       "    </tr>\n",
       "    <tr>\n",
       "      <th>2</th>\n",
       "      <td>0.885</td>\n",
       "      <td>0.578</td>\n",
       "      <td>5</td>\n",
       "      <td>-7.416</td>\n",
       "      <td>0</td>\n",
       "      <td>0.0783</td>\n",
       "      <td>0.07390</td>\n",
       "      <td>0.090300</td>\n",
       "      <td>0.1020</td>\n",
       "      <td>0.3880</td>\n",
       "      <td>131.999</td>\n",
       "      <td>178933</td>\n",
       "      <td>4</td>\n",
       "    </tr>\n",
       "    <tr>\n",
       "      <th>3</th>\n",
       "      <td>0.578</td>\n",
       "      <td>0.655</td>\n",
       "      <td>1</td>\n",
       "      <td>-6.704</td>\n",
       "      <td>0</td>\n",
       "      <td>0.0571</td>\n",
       "      <td>0.35100</td>\n",
       "      <td>0.000009</td>\n",
       "      <td>0.1750</td>\n",
       "      <td>0.4400</td>\n",
       "      <td>124.846</td>\n",
       "      <td>174500</td>\n",
       "      <td>4</td>\n",
       "    </tr>\n",
       "    <tr>\n",
       "      <th>4</th>\n",
       "      <td>0.529</td>\n",
       "      <td>0.760</td>\n",
       "      <td>11</td>\n",
       "      <td>-4.781</td>\n",
       "      <td>0</td>\n",
       "      <td>0.2500</td>\n",
       "      <td>0.00491</td>\n",
       "      <td>0.000000</td>\n",
       "      <td>0.3440</td>\n",
       "      <td>0.2760</td>\n",
       "      <td>166.465</td>\n",
       "      <td>209640</td>\n",
       "      <td>4</td>\n",
       "    </tr>\n",
       "    <tr>\n",
       "      <th>...</th>\n",
       "      <td>...</td>\n",
       "      <td>...</td>\n",
       "      <td>...</td>\n",
       "      <td>...</td>\n",
       "      <td>...</td>\n",
       "      <td>...</td>\n",
       "      <td>...</td>\n",
       "      <td>...</td>\n",
       "      <td>...</td>\n",
       "      <td>...</td>\n",
       "      <td>...</td>\n",
       "      <td>...</td>\n",
       "      <td>...</td>\n",
       "    </tr>\n",
       "    <tr>\n",
       "      <th>6781</th>\n",
       "      <td>0.545</td>\n",
       "      <td>0.789</td>\n",
       "      <td>9</td>\n",
       "      <td>-5.164</td>\n",
       "      <td>0</td>\n",
       "      <td>0.0262</td>\n",
       "      <td>0.12000</td>\n",
       "      <td>0.000024</td>\n",
       "      <td>0.7520</td>\n",
       "      <td>0.6630</td>\n",
       "      <td>149.977</td>\n",
       "      <td>239000</td>\n",
       "      <td>4</td>\n",
       "    </tr>\n",
       "    <tr>\n",
       "      <th>6782</th>\n",
       "      <td>0.501</td>\n",
       "      <td>0.704</td>\n",
       "      <td>3</td>\n",
       "      <td>-5.640</td>\n",
       "      <td>1</td>\n",
       "      <td>0.0326</td>\n",
       "      <td>0.28400</td>\n",
       "      <td>0.000000</td>\n",
       "      <td>0.1550</td>\n",
       "      <td>0.2700</td>\n",
       "      <td>97.039</td>\n",
       "      <td>203453</td>\n",
       "      <td>4</td>\n",
       "    </tr>\n",
       "    <tr>\n",
       "      <th>6783</th>\n",
       "      <td>0.710</td>\n",
       "      <td>0.437</td>\n",
       "      <td>2</td>\n",
       "      <td>-9.239</td>\n",
       "      <td>0</td>\n",
       "      <td>0.0307</td>\n",
       "      <td>0.90200</td>\n",
       "      <td>0.001370</td>\n",
       "      <td>0.1200</td>\n",
       "      <td>0.8630</td>\n",
       "      <td>143.982</td>\n",
       "      <td>257589</td>\n",
       "      <td>4</td>\n",
       "    </tr>\n",
       "    <tr>\n",
       "      <th>6784</th>\n",
       "      <td>0.608</td>\n",
       "      <td>0.612</td>\n",
       "      <td>4</td>\n",
       "      <td>-8.346</td>\n",
       "      <td>0</td>\n",
       "      <td>0.0288</td>\n",
       "      <td>0.35800</td>\n",
       "      <td>0.005540</td>\n",
       "      <td>0.0967</td>\n",
       "      <td>0.1990</td>\n",
       "      <td>120.004</td>\n",
       "      <td>256484</td>\n",
       "      <td>4</td>\n",
       "    </tr>\n",
       "    <tr>\n",
       "      <th>6785</th>\n",
       "      <td>0.405</td>\n",
       "      <td>0.383</td>\n",
       "      <td>0</td>\n",
       "      <td>-12.086</td>\n",
       "      <td>1</td>\n",
       "      <td>0.0432</td>\n",
       "      <td>0.42600</td>\n",
       "      <td>0.000000</td>\n",
       "      <td>0.1250</td>\n",
       "      <td>0.0739</td>\n",
       "      <td>162.185</td>\n",
       "      <td>229800</td>\n",
       "      <td>4</td>\n",
       "    </tr>\n",
       "  </tbody>\n",
       "</table>\n",
       "<p>6786 rows × 13 columns</p>\n",
       "</div>"
      ],
      "text/plain": [
       "      danceability  energy  key  loudness  mode  speechiness  acousticness  \\\n",
       "0            0.741   0.520    8    -7.513     1       0.0656       0.45000   \n",
       "1            0.549   0.396    8    -8.435     0       0.4370       0.16800   \n",
       "2            0.885   0.578    5    -7.416     0       0.0783       0.07390   \n",
       "3            0.578   0.655    1    -6.704     0       0.0571       0.35100   \n",
       "4            0.529   0.760   11    -4.781     0       0.2500       0.00491   \n",
       "...            ...     ...  ...       ...   ...          ...           ...   \n",
       "6781         0.545   0.789    9    -5.164     0       0.0262       0.12000   \n",
       "6782         0.501   0.704    3    -5.640     1       0.0326       0.28400   \n",
       "6783         0.710   0.437    2    -9.239     0       0.0307       0.90200   \n",
       "6784         0.608   0.612    4    -8.346     0       0.0288       0.35800   \n",
       "6785         0.405   0.383    0   -12.086     1       0.0432       0.42600   \n",
       "\n",
       "      instrumentalness  liveness  valence    tempo  duration_ms  \\\n",
       "0             0.000002    0.2220   0.3470  102.998       171030   \n",
       "1             0.077700    0.1470   0.2840   79.494       141452   \n",
       "2             0.090300    0.1020   0.3880  131.999       178933   \n",
       "3             0.000009    0.1750   0.4400  124.846       174500   \n",
       "4             0.000000    0.3440   0.2760  166.465       209640   \n",
       "...                ...       ...      ...      ...          ...   \n",
       "6781          0.000024    0.7520   0.6630  149.977       239000   \n",
       "6782          0.000000    0.1550   0.2700   97.039       203453   \n",
       "6783          0.001370    0.1200   0.8630  143.982       257589   \n",
       "6784          0.005540    0.0967   0.1990  120.004       256484   \n",
       "6785          0.000000    0.1250   0.0739  162.185       229800   \n",
       "\n",
       "      time_signature  \n",
       "0                  4  \n",
       "1                  4  \n",
       "2                  4  \n",
       "3                  4  \n",
       "4                  4  \n",
       "...              ...  \n",
       "6781               4  \n",
       "6782               4  \n",
       "6783               4  \n",
       "6784               4  \n",
       "6785               4  \n",
       "\n",
       "[6786 rows x 13 columns]"
      ]
     },
     "execution_count": 5,
     "metadata": {},
     "output_type": "execute_result"
    }
   ],
   "source": [
    "cluster_df = df\n",
    "cluster_df = cluster_df.drop(['type', 'id', 'uri', 'track_href', 'analysis_url'], axis=1)\n",
    "cluster_df"
   ]
  },
  {
   "cell_type": "markdown",
   "id": "416f5854-dd95-43de-bcac-df440d3094bb",
   "metadata": {},
   "source": [
    "## Scaling features"
   ]
  },
  {
   "cell_type": "code",
   "execution_count": 7,
   "id": "a979437e-4dbf-42e0-b9e0-a2c728e3c08c",
   "metadata": {},
   "outputs": [
    {
     "data": {
      "text/html": [
       "<div>\n",
       "<style scoped>\n",
       "    .dataframe tbody tr th:only-of-type {\n",
       "        vertical-align: middle;\n",
       "    }\n",
       "\n",
       "    .dataframe tbody tr th {\n",
       "        vertical-align: top;\n",
       "    }\n",
       "\n",
       "    .dataframe thead th {\n",
       "        text-align: right;\n",
       "    }\n",
       "</style>\n",
       "<table border=\"1\" class=\"dataframe\">\n",
       "  <thead>\n",
       "    <tr style=\"text-align: right;\">\n",
       "      <th></th>\n",
       "      <th>danceability</th>\n",
       "      <th>energy</th>\n",
       "      <th>key</th>\n",
       "      <th>loudness</th>\n",
       "      <th>mode</th>\n",
       "      <th>speechiness</th>\n",
       "      <th>acousticness</th>\n",
       "      <th>instrumentalness</th>\n",
       "      <th>liveness</th>\n",
       "      <th>valence</th>\n",
       "      <th>tempo</th>\n",
       "      <th>duration_ms</th>\n",
       "      <th>time_signature</th>\n",
       "    </tr>\n",
       "  </thead>\n",
       "  <tbody>\n",
       "    <tr>\n",
       "      <th>0</th>\n",
       "      <td>0.714382</td>\n",
       "      <td>-0.969985</td>\n",
       "      <td>0.758425</td>\n",
       "      <td>-0.078561</td>\n",
       "      <td>0.801191</td>\n",
       "      <td>-0.063885</td>\n",
       "      <td>1.094881</td>\n",
       "      <td>-0.270221</td>\n",
       "      <td>0.310982</td>\n",
       "      <td>-1.061320</td>\n",
       "      <td>-0.717547</td>\n",
       "      <td>-1.021546</td>\n",
       "      <td>0.138531</td>\n",
       "    </tr>\n",
       "    <tr>\n",
       "      <th>1</th>\n",
       "      <td>-0.578529</td>\n",
       "      <td>-1.674783</td>\n",
       "      <td>0.758425</td>\n",
       "      <td>-0.376091</td>\n",
       "      <td>-1.248142</td>\n",
       "      <td>5.302397</td>\n",
       "      <td>-0.156547</td>\n",
       "      <td>0.310698</td>\n",
       "      <td>-0.208333</td>\n",
       "      <td>-1.325924</td>\n",
       "      <td>-1.626897</td>\n",
       "      <td>-1.482509</td>\n",
       "      <td>0.138531</td>\n",
       "    </tr>\n",
       "    <tr>\n",
       "      <th>2</th>\n",
       "      <td>1.684065</td>\n",
       "      <td>-0.640321</td>\n",
       "      <td>-0.069724</td>\n",
       "      <td>-0.047259</td>\n",
       "      <td>-1.248142</td>\n",
       "      <td>0.119615</td>\n",
       "      <td>-0.574133</td>\n",
       "      <td>0.404904</td>\n",
       "      <td>-0.519922</td>\n",
       "      <td>-0.889117</td>\n",
       "      <td>0.404477</td>\n",
       "      <td>-0.898380</td>\n",
       "      <td>0.138531</td>\n",
       "    </tr>\n",
       "    <tr>\n",
       "      <th>3</th>\n",
       "      <td>-0.383245</td>\n",
       "      <td>-0.202664</td>\n",
       "      <td>-1.173923</td>\n",
       "      <td>0.182504</td>\n",
       "      <td>-1.248142</td>\n",
       "      <td>-0.186700</td>\n",
       "      <td>0.655550</td>\n",
       "      <td>-0.270170</td>\n",
       "      <td>-0.014456</td>\n",
       "      <td>-0.670713</td>\n",
       "      <td>0.127734</td>\n",
       "      <td>-0.967467</td>\n",
       "      <td>0.138531</td>\n",
       "    </tr>\n",
       "    <tr>\n",
       "      <th>4</th>\n",
       "      <td>-0.713207</td>\n",
       "      <td>0.394141</td>\n",
       "      <td>1.586574</td>\n",
       "      <td>0.803057</td>\n",
       "      <td>-1.248142</td>\n",
       "      <td>2.600472</td>\n",
       "      <td>-0.880289</td>\n",
       "      <td>-0.270236</td>\n",
       "      <td>1.155733</td>\n",
       "      <td>-1.359525</td>\n",
       "      <td>1.737938</td>\n",
       "      <td>-0.419822</td>\n",
       "      <td>0.138531</td>\n",
       "    </tr>\n",
       "  </tbody>\n",
       "</table>\n",
       "</div>"
      ],
      "text/plain": [
       "   danceability    energy       key  loudness      mode  speechiness  \\\n",
       "0      0.714382 -0.969985  0.758425 -0.078561  0.801191    -0.063885   \n",
       "1     -0.578529 -1.674783  0.758425 -0.376091 -1.248142     5.302397   \n",
       "2      1.684065 -0.640321 -0.069724 -0.047259 -1.248142     0.119615   \n",
       "3     -0.383245 -0.202664 -1.173923  0.182504 -1.248142    -0.186700   \n",
       "4     -0.713207  0.394141  1.586574  0.803057 -1.248142     2.600472   \n",
       "\n",
       "   acousticness  instrumentalness  liveness   valence     tempo  duration_ms  \\\n",
       "0      1.094881         -0.270221  0.310982 -1.061320 -0.717547    -1.021546   \n",
       "1     -0.156547          0.310698 -0.208333 -1.325924 -1.626897    -1.482509   \n",
       "2     -0.574133          0.404904 -0.519922 -0.889117  0.404477    -0.898380   \n",
       "3      0.655550         -0.270170 -0.014456 -0.670713  0.127734    -0.967467   \n",
       "4     -0.880289         -0.270236  1.155733 -1.359525  1.737938    -0.419822   \n",
       "\n",
       "   time_signature  \n",
       "0        0.138531  \n",
       "1        0.138531  \n",
       "2        0.138531  \n",
       "3        0.138531  \n",
       "4        0.138531  "
      ]
     },
     "metadata": {},
     "output_type": "display_data"
    }
   ],
   "source": [
    "scaler = StandardScaler()\n",
    "scaler.fit(cluster_df)\n",
    "X_scaled = scaler.transform(cluster_df)\n",
    "X_scaled_df = pd.DataFrame(X_scaled, columns = cluster_df.columns)\n",
    "display(X_scaled_df.head())"
   ]
  },
  {
   "cell_type": "markdown",
   "id": "e9e46fda-13eb-46ac-915b-09e33c5ea99c",
   "metadata": {},
   "source": [
    "## Clustering the songs with K-Means"
   ]
  },
  {
   "cell_type": "code",
   "execution_count": 8,
   "id": "f6539b04-e84d-47fa-8fe6-bd9456332d6c",
   "metadata": {},
   "outputs": [
    {
     "name": "stderr",
     "output_type": "stream",
     "text": [
      "C:\\Users\\vonke\\anaconda3\\Lib\\site-packages\\sklearn\\cluster\\_kmeans.py:870: FutureWarning: The default value of `n_init` will change from 10 to 'auto' in 1.4. Set the value of `n_init` explicitly to suppress the warning\n",
      "  warnings.warn(\n"
     ]
    },
    {
     "data": {
      "text/html": [
       "<style>#sk-container-id-1 {color: black;background-color: white;}#sk-container-id-1 pre{padding: 0;}#sk-container-id-1 div.sk-toggleable {background-color: white;}#sk-container-id-1 label.sk-toggleable__label {cursor: pointer;display: block;width: 100%;margin-bottom: 0;padding: 0.3em;box-sizing: border-box;text-align: center;}#sk-container-id-1 label.sk-toggleable__label-arrow:before {content: \"▸\";float: left;margin-right: 0.25em;color: #696969;}#sk-container-id-1 label.sk-toggleable__label-arrow:hover:before {color: black;}#sk-container-id-1 div.sk-estimator:hover label.sk-toggleable__label-arrow:before {color: black;}#sk-container-id-1 div.sk-toggleable__content {max-height: 0;max-width: 0;overflow: hidden;text-align: left;background-color: #f0f8ff;}#sk-container-id-1 div.sk-toggleable__content pre {margin: 0.2em;color: black;border-radius: 0.25em;background-color: #f0f8ff;}#sk-container-id-1 input.sk-toggleable__control:checked~div.sk-toggleable__content {max-height: 200px;max-width: 100%;overflow: auto;}#sk-container-id-1 input.sk-toggleable__control:checked~label.sk-toggleable__label-arrow:before {content: \"▾\";}#sk-container-id-1 div.sk-estimator input.sk-toggleable__control:checked~label.sk-toggleable__label {background-color: #d4ebff;}#sk-container-id-1 div.sk-label input.sk-toggleable__control:checked~label.sk-toggleable__label {background-color: #d4ebff;}#sk-container-id-1 input.sk-hidden--visually {border: 0;clip: rect(1px 1px 1px 1px);clip: rect(1px, 1px, 1px, 1px);height: 1px;margin: -1px;overflow: hidden;padding: 0;position: absolute;width: 1px;}#sk-container-id-1 div.sk-estimator {font-family: monospace;background-color: #f0f8ff;border: 1px dotted black;border-radius: 0.25em;box-sizing: border-box;margin-bottom: 0.5em;}#sk-container-id-1 div.sk-estimator:hover {background-color: #d4ebff;}#sk-container-id-1 div.sk-parallel-item::after {content: \"\";width: 100%;border-bottom: 1px solid gray;flex-grow: 1;}#sk-container-id-1 div.sk-label:hover label.sk-toggleable__label {background-color: #d4ebff;}#sk-container-id-1 div.sk-serial::before {content: \"\";position: absolute;border-left: 1px solid gray;box-sizing: border-box;top: 0;bottom: 0;left: 50%;z-index: 0;}#sk-container-id-1 div.sk-serial {display: flex;flex-direction: column;align-items: center;background-color: white;padding-right: 0.2em;padding-left: 0.2em;position: relative;}#sk-container-id-1 div.sk-item {position: relative;z-index: 1;}#sk-container-id-1 div.sk-parallel {display: flex;align-items: stretch;justify-content: center;background-color: white;position: relative;}#sk-container-id-1 div.sk-item::before, #sk-container-id-1 div.sk-parallel-item::before {content: \"\";position: absolute;border-left: 1px solid gray;box-sizing: border-box;top: 0;bottom: 0;left: 50%;z-index: -1;}#sk-container-id-1 div.sk-parallel-item {display: flex;flex-direction: column;z-index: 1;position: relative;background-color: white;}#sk-container-id-1 div.sk-parallel-item:first-child::after {align-self: flex-end;width: 50%;}#sk-container-id-1 div.sk-parallel-item:last-child::after {align-self: flex-start;width: 50%;}#sk-container-id-1 div.sk-parallel-item:only-child::after {width: 0;}#sk-container-id-1 div.sk-dashed-wrapped {border: 1px dashed gray;margin: 0 0.4em 0.5em 0.4em;box-sizing: border-box;padding-bottom: 0.4em;background-color: white;}#sk-container-id-1 div.sk-label label {font-family: monospace;font-weight: bold;display: inline-block;line-height: 1.2em;}#sk-container-id-1 div.sk-label-container {text-align: center;}#sk-container-id-1 div.sk-container {/* jupyter's `normalize.less` sets `[hidden] { display: none; }` but bootstrap.min.css set `[hidden] { display: none !important; }` so we also need the `!important` here to be able to override the default hidden behavior on the sphinx rendered scikit-learn.org. See: https://github.com/scikit-learn/scikit-learn/issues/21755 */display: inline-block !important;position: relative;}#sk-container-id-1 div.sk-text-repr-fallback {display: none;}</style><div id=\"sk-container-id-1\" class=\"sk-top-container\"><div class=\"sk-text-repr-fallback\"><pre>KMeans(random_state=1234)</pre><b>In a Jupyter environment, please rerun this cell to show the HTML representation or trust the notebook. <br />On GitHub, the HTML representation is unable to render, please try loading this page with nbviewer.org.</b></div><div class=\"sk-container\" hidden><div class=\"sk-item\"><div class=\"sk-estimator sk-toggleable\"><input class=\"sk-toggleable__control sk-hidden--visually\" id=\"sk-estimator-id-1\" type=\"checkbox\" checked><label for=\"sk-estimator-id-1\" class=\"sk-toggleable__label sk-toggleable__label-arrow\">KMeans</label><div class=\"sk-toggleable__content\"><pre>KMeans(random_state=1234)</pre></div></div></div></div></div>"
      ],
      "text/plain": [
       "KMeans(random_state=1234)"
      ]
     },
     "execution_count": 8,
     "metadata": {},
     "output_type": "execute_result"
    }
   ],
   "source": [
    "kmeans = KMeans(n_clusters=8, random_state=1234)\n",
    "kmeans.fit(X_scaled_df)"
   ]
  },
  {
   "cell_type": "code",
   "execution_count": 9,
   "id": "ab20eb2a-13b8-40b8-ab5c-f59f6ab2f065",
   "metadata": {},
   "outputs": [
    {
     "data": {
      "text/plain": [
       "array([1, 3, 5, ..., 1, 1, 1])"
      ]
     },
     "execution_count": 9,
     "metadata": {},
     "output_type": "execute_result"
    }
   ],
   "source": [
    "labels = kmeans.labels_\n",
    "labels"
   ]
  },
  {
   "cell_type": "code",
   "execution_count": 10,
   "id": "98e05e45-48df-4862-86b7-8382a8094cb3",
   "metadata": {},
   "outputs": [
    {
     "data": {
      "text/plain": [
       "array([0, 1, 2, 3, 4, 5, 6, 7])"
      ]
     },
     "execution_count": 10,
     "metadata": {},
     "output_type": "execute_result"
    }
   ],
   "source": [
    "np.unique(labels)"
   ]
  },
  {
   "cell_type": "markdown",
   "id": "301cf5e1-0c69-43b5-a6c0-f95e80969b3c",
   "metadata": {},
   "source": [
    "Now that we have our model, let's get the clusters and see how many observations each cluster has."
   ]
  },
  {
   "cell_type": "code",
   "execution_count": 11,
   "id": "cabe7426-8714-400d-b5fd-e5feed1aa6b3",
   "metadata": {},
   "outputs": [
    {
     "data": {
      "text/plain": [
       "0    1823\n",
       "1    1041\n",
       "2    1008\n",
       "3     417\n",
       "4     272\n",
       "5    1649\n",
       "6     226\n",
       "7     350\n",
       "Name: count, dtype: int64"
      ]
     },
     "execution_count": 11,
     "metadata": {},
     "output_type": "execute_result"
    }
   ],
   "source": [
    "clusters = kmeans.predict(X_scaled_df)\n",
    "#clusters\n",
    "pd.Series(clusters).value_counts().sort_index()"
   ]
  },
  {
   "cell_type": "code",
   "execution_count": 12,
   "id": "c61626e1-ec47-45fc-9e7e-ddaadfd160f2",
   "metadata": {},
   "outputs": [
    {
     "data": {
      "text/plain": [
       "array([1, 3, 5, ..., 1, 1, 1])"
      ]
     },
     "execution_count": 12,
     "metadata": {},
     "output_type": "execute_result"
    }
   ],
   "source": [
    "clusters"
   ]
  },
  {
   "cell_type": "code",
   "execution_count": 13,
   "id": "a1968c2c-1e0a-4616-a70c-0860f5117b65",
   "metadata": {},
   "outputs": [
    {
     "data": {
      "text/html": [
       "<div>\n",
       "<style scoped>\n",
       "    .dataframe tbody tr th:only-of-type {\n",
       "        vertical-align: middle;\n",
       "    }\n",
       "\n",
       "    .dataframe tbody tr th {\n",
       "        vertical-align: top;\n",
       "    }\n",
       "\n",
       "    .dataframe thead th {\n",
       "        text-align: right;\n",
       "    }\n",
       "</style>\n",
       "<table border=\"1\" class=\"dataframe\">\n",
       "  <thead>\n",
       "    <tr style=\"text-align: right;\">\n",
       "      <th></th>\n",
       "      <th>danceability</th>\n",
       "      <th>energy</th>\n",
       "      <th>key</th>\n",
       "      <th>loudness</th>\n",
       "      <th>mode</th>\n",
       "      <th>speechiness</th>\n",
       "      <th>acousticness</th>\n",
       "      <th>instrumentalness</th>\n",
       "      <th>liveness</th>\n",
       "      <th>valence</th>\n",
       "      <th>tempo</th>\n",
       "      <th>duration_ms</th>\n",
       "      <th>time_signature</th>\n",
       "      <th>cluster</th>\n",
       "    </tr>\n",
       "  </thead>\n",
       "  <tbody>\n",
       "    <tr>\n",
       "      <th>0</th>\n",
       "      <td>0.741</td>\n",
       "      <td>0.520</td>\n",
       "      <td>8</td>\n",
       "      <td>-7.513</td>\n",
       "      <td>1</td>\n",
       "      <td>0.0656</td>\n",
       "      <td>0.45000</td>\n",
       "      <td>0.000002</td>\n",
       "      <td>0.2220</td>\n",
       "      <td>0.3470</td>\n",
       "      <td>102.998</td>\n",
       "      <td>171030</td>\n",
       "      <td>4</td>\n",
       "      <td>1</td>\n",
       "    </tr>\n",
       "    <tr>\n",
       "      <th>1</th>\n",
       "      <td>0.549</td>\n",
       "      <td>0.396</td>\n",
       "      <td>8</td>\n",
       "      <td>-8.435</td>\n",
       "      <td>0</td>\n",
       "      <td>0.4370</td>\n",
       "      <td>0.16800</td>\n",
       "      <td>0.077700</td>\n",
       "      <td>0.1470</td>\n",
       "      <td>0.2840</td>\n",
       "      <td>79.494</td>\n",
       "      <td>141452</td>\n",
       "      <td>4</td>\n",
       "      <td>3</td>\n",
       "    </tr>\n",
       "    <tr>\n",
       "      <th>2</th>\n",
       "      <td>0.885</td>\n",
       "      <td>0.578</td>\n",
       "      <td>5</td>\n",
       "      <td>-7.416</td>\n",
       "      <td>0</td>\n",
       "      <td>0.0783</td>\n",
       "      <td>0.07390</td>\n",
       "      <td>0.090300</td>\n",
       "      <td>0.1020</td>\n",
       "      <td>0.3880</td>\n",
       "      <td>131.999</td>\n",
       "      <td>178933</td>\n",
       "      <td>4</td>\n",
       "      <td>5</td>\n",
       "    </tr>\n",
       "    <tr>\n",
       "      <th>3</th>\n",
       "      <td>0.578</td>\n",
       "      <td>0.655</td>\n",
       "      <td>1</td>\n",
       "      <td>-6.704</td>\n",
       "      <td>0</td>\n",
       "      <td>0.0571</td>\n",
       "      <td>0.35100</td>\n",
       "      <td>0.000009</td>\n",
       "      <td>0.1750</td>\n",
       "      <td>0.4400</td>\n",
       "      <td>124.846</td>\n",
       "      <td>174500</td>\n",
       "      <td>4</td>\n",
       "      <td>5</td>\n",
       "    </tr>\n",
       "    <tr>\n",
       "      <th>4</th>\n",
       "      <td>0.529</td>\n",
       "      <td>0.760</td>\n",
       "      <td>11</td>\n",
       "      <td>-4.781</td>\n",
       "      <td>0</td>\n",
       "      <td>0.2500</td>\n",
       "      <td>0.00491</td>\n",
       "      <td>0.000000</td>\n",
       "      <td>0.3440</td>\n",
       "      <td>0.2760</td>\n",
       "      <td>166.465</td>\n",
       "      <td>209640</td>\n",
       "      <td>4</td>\n",
       "      <td>3</td>\n",
       "    </tr>\n",
       "    <tr>\n",
       "      <th>...</th>\n",
       "      <td>...</td>\n",
       "      <td>...</td>\n",
       "      <td>...</td>\n",
       "      <td>...</td>\n",
       "      <td>...</td>\n",
       "      <td>...</td>\n",
       "      <td>...</td>\n",
       "      <td>...</td>\n",
       "      <td>...</td>\n",
       "      <td>...</td>\n",
       "      <td>...</td>\n",
       "      <td>...</td>\n",
       "      <td>...</td>\n",
       "      <td>...</td>\n",
       "    </tr>\n",
       "    <tr>\n",
       "      <th>6781</th>\n",
       "      <td>0.545</td>\n",
       "      <td>0.789</td>\n",
       "      <td>9</td>\n",
       "      <td>-5.164</td>\n",
       "      <td>0</td>\n",
       "      <td>0.0262</td>\n",
       "      <td>0.12000</td>\n",
       "      <td>0.000024</td>\n",
       "      <td>0.7520</td>\n",
       "      <td>0.6630</td>\n",
       "      <td>149.977</td>\n",
       "      <td>239000</td>\n",
       "      <td>4</td>\n",
       "      <td>7</td>\n",
       "    </tr>\n",
       "    <tr>\n",
       "      <th>6782</th>\n",
       "      <td>0.501</td>\n",
       "      <td>0.704</td>\n",
       "      <td>3</td>\n",
       "      <td>-5.640</td>\n",
       "      <td>1</td>\n",
       "      <td>0.0326</td>\n",
       "      <td>0.28400</td>\n",
       "      <td>0.000000</td>\n",
       "      <td>0.1550</td>\n",
       "      <td>0.2700</td>\n",
       "      <td>97.039</td>\n",
       "      <td>203453</td>\n",
       "      <td>4</td>\n",
       "      <td>2</td>\n",
       "    </tr>\n",
       "    <tr>\n",
       "      <th>6783</th>\n",
       "      <td>0.710</td>\n",
       "      <td>0.437</td>\n",
       "      <td>2</td>\n",
       "      <td>-9.239</td>\n",
       "      <td>0</td>\n",
       "      <td>0.0307</td>\n",
       "      <td>0.90200</td>\n",
       "      <td>0.001370</td>\n",
       "      <td>0.1200</td>\n",
       "      <td>0.8630</td>\n",
       "      <td>143.982</td>\n",
       "      <td>257589</td>\n",
       "      <td>4</td>\n",
       "      <td>1</td>\n",
       "    </tr>\n",
       "    <tr>\n",
       "      <th>6784</th>\n",
       "      <td>0.608</td>\n",
       "      <td>0.612</td>\n",
       "      <td>4</td>\n",
       "      <td>-8.346</td>\n",
       "      <td>0</td>\n",
       "      <td>0.0288</td>\n",
       "      <td>0.35800</td>\n",
       "      <td>0.005540</td>\n",
       "      <td>0.0967</td>\n",
       "      <td>0.1990</td>\n",
       "      <td>120.004</td>\n",
       "      <td>256484</td>\n",
       "      <td>4</td>\n",
       "      <td>1</td>\n",
       "    </tr>\n",
       "    <tr>\n",
       "      <th>6785</th>\n",
       "      <td>0.405</td>\n",
       "      <td>0.383</td>\n",
       "      <td>0</td>\n",
       "      <td>-12.086</td>\n",
       "      <td>1</td>\n",
       "      <td>0.0432</td>\n",
       "      <td>0.42600</td>\n",
       "      <td>0.000000</td>\n",
       "      <td>0.1250</td>\n",
       "      <td>0.0739</td>\n",
       "      <td>162.185</td>\n",
       "      <td>229800</td>\n",
       "      <td>4</td>\n",
       "      <td>1</td>\n",
       "    </tr>\n",
       "  </tbody>\n",
       "</table>\n",
       "<p>6786 rows × 14 columns</p>\n",
       "</div>"
      ],
      "text/plain": [
       "      danceability  energy  key  loudness  mode  speechiness  acousticness  \\\n",
       "0            0.741   0.520    8    -7.513     1       0.0656       0.45000   \n",
       "1            0.549   0.396    8    -8.435     0       0.4370       0.16800   \n",
       "2            0.885   0.578    5    -7.416     0       0.0783       0.07390   \n",
       "3            0.578   0.655    1    -6.704     0       0.0571       0.35100   \n",
       "4            0.529   0.760   11    -4.781     0       0.2500       0.00491   \n",
       "...            ...     ...  ...       ...   ...          ...           ...   \n",
       "6781         0.545   0.789    9    -5.164     0       0.0262       0.12000   \n",
       "6782         0.501   0.704    3    -5.640     1       0.0326       0.28400   \n",
       "6783         0.710   0.437    2    -9.239     0       0.0307       0.90200   \n",
       "6784         0.608   0.612    4    -8.346     0       0.0288       0.35800   \n",
       "6785         0.405   0.383    0   -12.086     1       0.0432       0.42600   \n",
       "\n",
       "      instrumentalness  liveness  valence    tempo  duration_ms  \\\n",
       "0             0.000002    0.2220   0.3470  102.998       171030   \n",
       "1             0.077700    0.1470   0.2840   79.494       141452   \n",
       "2             0.090300    0.1020   0.3880  131.999       178933   \n",
       "3             0.000009    0.1750   0.4400  124.846       174500   \n",
       "4             0.000000    0.3440   0.2760  166.465       209640   \n",
       "...                ...       ...      ...      ...          ...   \n",
       "6781          0.000024    0.7520   0.6630  149.977       239000   \n",
       "6782          0.000000    0.1550   0.2700   97.039       203453   \n",
       "6783          0.001370    0.1200   0.8630  143.982       257589   \n",
       "6784          0.005540    0.0967   0.1990  120.004       256484   \n",
       "6785          0.000000    0.1250   0.0739  162.185       229800   \n",
       "\n",
       "      time_signature  cluster  \n",
       "0                  4        1  \n",
       "1                  4        3  \n",
       "2                  4        5  \n",
       "3                  4        5  \n",
       "4                  4        3  \n",
       "...              ...      ...  \n",
       "6781               4        7  \n",
       "6782               4        2  \n",
       "6783               4        1  \n",
       "6784               4        1  \n",
       "6785               4        1  \n",
       "\n",
       "[6786 rows x 14 columns]"
      ]
     },
     "execution_count": 13,
     "metadata": {},
     "output_type": "execute_result"
    }
   ],
   "source": [
    "cluster_df[\"cluster\"] = clusters\n",
    "cluster_df"
   ]
  },
  {
   "cell_type": "markdown",
   "id": "0cd97048-fb19-49e1-a37c-4368b3f1df6c",
   "metadata": {},
   "source": [
    "## Playing with the parameters"
   ]
  },
  {
   "cell_type": "markdown",
   "id": "30c4d2a4-5105-4097-b573-ac3c77b04558",
   "metadata": {},
   "source": [
    "**init**: those are the different initialization strategies. By default, sklearn is already using a 'smart' method, not the totally random one we saw.\n",
    "\n",
    "**n_init**: By default, Scikit-Learn has tried 10 different random initializations and kept the best model.\n",
    "\n",
    "[Scikitlearn Documentation](https://scikit-learn.org/stable/modules/generated/sklearn.cluster.KMeans.html)\n",
    "\n",
    "How does Scikit-Learn know which model is the best? It uses a performance metric called **inertia**. **It is the mean squared distance between each instance and its closest centroid**. It's stored in the inertia_ attribute of the model."
   ]
  },
  {
   "cell_type": "code",
   "execution_count": 14,
   "id": "9d970236-9347-4ee0-8e28-a4fc9aaa0b2d",
   "metadata": {},
   "outputs": [
    {
     "data": {
      "text/plain": [
       "52756.26741015937"
      ]
     },
     "execution_count": 14,
     "metadata": {},
     "output_type": "execute_result"
    }
   ],
   "source": [
    "kmeans.inertia_"
   ]
  },
  {
   "cell_type": "markdown",
   "id": "f0495a6f-c71d-4bc3-aa2c-d4caeb49ee20",
   "metadata": {},
   "source": [
    "**max_iter**: It iterates up to 300 times by default (those are the re-computing centroids iterations we saw earlier)\n",
    "\n",
    "**tol**: This is a way to determine when to stop iterating (if the clusters have changed only veeeery slightly, we assume we have achieved 'convergence')\n",
    "\n",
    "**algorithm**: There are variations in the implementation of most algorithms and K-Means is no exception. By default, we're using a 'smart' implementation called elkan.\n",
    "\n",
    "For learning purposes, we will tweak the parameters to replicate the good ol' K-Means - a bit dumber than the Scikit-Learn, yes, but also the original.ginal."
   ]
  },
  {
   "cell_type": "code",
   "execution_count": 15,
   "id": "bb812026-f2b0-49d2-904a-66d19d202df4",
   "metadata": {},
   "outputs": [
    {
     "name": "stdout",
     "output_type": "stream",
     "text": [
      "53178.30254775439\n"
     ]
    }
   ],
   "source": [
    "kmeans2 = KMeans(n_clusters=8,\n",
    "                init=\"k-means++\",\n",
    "                n_init=10,  # try with 1, 4, 8, 20, 30, 100...\n",
    "                max_iter=5,\n",
    "                algorithm=\"elkan\",\n",
    "                random_state=1234)\n",
    "kmeans2.fit(X_scaled_df)\n",
    "print(kmeans2.inertia_)"
   ]
  },
  {
   "cell_type": "markdown",
   "id": "b6129d7b-22b5-4467-b622-f7946194bd70",
   "metadata": {},
   "source": [
    "## Choosing K"
   ]
  },
  {
   "cell_type": "code",
   "execution_count": 16,
   "id": "ffacbf7a-2795-43a0-abb0-7f346eef326c",
   "metadata": {
    "scrolled": true
   },
   "outputs": [
    {
     "name": "stdout",
     "output_type": "stream",
     "text": [
      "Training a K-Means model with 2 clusters! \n",
      "\n"
     ]
    },
    {
     "name": "stderr",
     "output_type": "stream",
     "text": [
      "C:\\Users\\vonke\\anaconda3\\Lib\\site-packages\\sklearn\\cluster\\_kmeans.py:870: FutureWarning: The default value of `n_init` will change from 10 to 'auto' in 1.4. Set the value of `n_init` explicitly to suppress the warning\n",
      "  warnings.warn(\n"
     ]
    },
    {
     "name": "stdout",
     "output_type": "stream",
     "text": [
      "Training a K-Means model with 3 clusters! \n",
      "\n"
     ]
    },
    {
     "name": "stderr",
     "output_type": "stream",
     "text": [
      "C:\\Users\\vonke\\anaconda3\\Lib\\site-packages\\sklearn\\cluster\\_kmeans.py:870: FutureWarning: The default value of `n_init` will change from 10 to 'auto' in 1.4. Set the value of `n_init` explicitly to suppress the warning\n",
      "  warnings.warn(\n"
     ]
    },
    {
     "name": "stdout",
     "output_type": "stream",
     "text": [
      "Training a K-Means model with 4 clusters! \n",
      "\n"
     ]
    },
    {
     "name": "stderr",
     "output_type": "stream",
     "text": [
      "C:\\Users\\vonke\\anaconda3\\Lib\\site-packages\\sklearn\\cluster\\_kmeans.py:870: FutureWarning: The default value of `n_init` will change from 10 to 'auto' in 1.4. Set the value of `n_init` explicitly to suppress the warning\n",
      "  warnings.warn(\n"
     ]
    },
    {
     "name": "stdout",
     "output_type": "stream",
     "text": [
      "Training a K-Means model with 5 clusters! \n",
      "\n"
     ]
    },
    {
     "name": "stderr",
     "output_type": "stream",
     "text": [
      "C:\\Users\\vonke\\anaconda3\\Lib\\site-packages\\sklearn\\cluster\\_kmeans.py:870: FutureWarning: The default value of `n_init` will change from 10 to 'auto' in 1.4. Set the value of `n_init` explicitly to suppress the warning\n",
      "  warnings.warn(\n"
     ]
    },
    {
     "name": "stdout",
     "output_type": "stream",
     "text": [
      "Training a K-Means model with 6 clusters! \n",
      "\n"
     ]
    },
    {
     "name": "stderr",
     "output_type": "stream",
     "text": [
      "C:\\Users\\vonke\\anaconda3\\Lib\\site-packages\\sklearn\\cluster\\_kmeans.py:870: FutureWarning: The default value of `n_init` will change from 10 to 'auto' in 1.4. Set the value of `n_init` explicitly to suppress the warning\n",
      "  warnings.warn(\n"
     ]
    },
    {
     "name": "stdout",
     "output_type": "stream",
     "text": [
      "Training a K-Means model with 7 clusters! \n",
      "\n"
     ]
    },
    {
     "name": "stderr",
     "output_type": "stream",
     "text": [
      "C:\\Users\\vonke\\anaconda3\\Lib\\site-packages\\sklearn\\cluster\\_kmeans.py:870: FutureWarning: The default value of `n_init` will change from 10 to 'auto' in 1.4. Set the value of `n_init` explicitly to suppress the warning\n",
      "  warnings.warn(\n"
     ]
    },
    {
     "data": {
      "text/plain": [
       "Text(0.5, 1.0, 'Elbow Method showing the optimal k')"
      ]
     },
     "execution_count": 16,
     "metadata": {},
     "output_type": "execute_result"
    },
    {
     "data": {
      "image/png": "[encoded data removed]",
      "text/plain": [
       "<Figure size 1600x800 with 1 Axes>"
      ]
     },
     "metadata": {},
     "output_type": "display_data"
    }
   ],
   "source": [
    "K = range(2, 8)\n",
    "inertia = []\n",
    "\n",
    "for k in K:\n",
    "    print(\"Training a K-Means model with {} clusters! \".format(k))\n",
    "    print()\n",
    "    kmeans = KMeans(n_clusters=k,\n",
    "                    random_state=1234)\n",
    "    kmeans.fit(X_scaled_df)\n",
    "    inertia.append(kmeans.inertia_)\n",
    "\n",
    "import numpy as np\n",
    "import matplotlib.pyplot as plt\n",
    "%matplotlib inline\n",
    "\n",
    "plt.figure(figsize=(16,8))\n",
    "plt.plot(K, inertia, 'bx-')\n",
    "plt.xlabel('k')\n",
    "plt.ylabel('inertia')\n",
    "plt.xticks(np.arange(min(K), max(K)+1, 1.0))\n",
    "plt.title('Elbow Method showing the optimal k')"
   ]
  },
  {
   "cell_type": "markdown",
   "id": "ab746327-f5cb-4195-b181-269d1ba424b6",
   "metadata": {},
   "source": [
    "## Silhouette"
   ]
  },
  {
   "cell_type": "code",
   "execution_count": 17,
   "id": "f8a82949-c15e-4a37-a51f-c5ba8e105122",
   "metadata": {},
   "outputs": [
    {
     "data": {
      "text/plain": [
       "Text(0.5, 1.0, 'Silhouette Method showing the optimal k')"
      ]
     },
     "execution_count": 17,
     "metadata": {},
     "output_type": "execute_result"
    },
    {
     "data": {
      "image/png": "[encoded data removed]",
      "text/plain": [
       "<Figure size 1600x800 with 1 Axes>"
      ]
     },
     "metadata": {},
     "output_type": "display_data"
    }
   ],
   "source": [
    "K = range(2, 8)\n",
    "silhouette = []\n",
    "\n",
    "for k in K:\n",
    "    kmeans = KMeans(n_clusters=k,\n",
    "                    random_state=1234, n_init='auto')\n",
    "    kmeans.fit(X_scaled_df)\n",
    "    \n",
    "    filename = \"Model/kmeans_\" + str(k) + \".pickle\"\n",
    "    with open(filename, \"wb\") as f:\n",
    "        pickle.dump(kmeans,f)\n",
    "    \n",
    "    silhouette.append(silhouette_score(X_scaled_df, kmeans.predict(X_scaled_df)))\n",
    "\n",
    "\n",
    "plt.figure(figsize=(16,8))\n",
    "plt.plot(K, silhouette, 'bx-')\n",
    "plt.xlabel('k')\n",
    "plt.ylabel('silhouette score')\n",
    "plt.xticks(np.arange(min(K), max(K)+1, 1.0))\n",
    "plt.title('Silhouette Method showing the optimal k')"
   ]
  },
  {
   "cell_type": "code",
   "execution_count": 18,
   "id": "45a62051-fd51-4ad8-bc92-47667dc7fbcb",
   "metadata": {},
   "outputs": [
    {
     "name": "stderr",
     "output_type": "stream",
     "text": [
      "C:\\Users\\vonke\\anaconda3\\Lib\\site-packages\\sklearn\\cluster\\_kmeans.py:870: FutureWarning: The default value of `n_init` will change from 10 to 'auto' in 1.4. Set the value of `n_init` explicitly to suppress the warning\n",
      "  warnings.warn(\n"
     ]
    },
    {
     "data": {
      "image/png": "[encoded data removed]",
      "text/plain": [
       "<Figure size 800x550 with 1 Axes>"
      ]
     },
     "metadata": {},
     "output_type": "display_data"
    },
    {
     "data": {
      "text/plain": [
       "<Axes: title={'center': 'Silhouette Plot of KMeans Clustering for 6786 Samples in 8 Centers'}, xlabel='silhouette coefficient values', ylabel='cluster label'>"
      ]
     },
     "execution_count": 18,
     "metadata": {},
     "output_type": "execute_result"
    }
   ],
   "source": [
    "from yellowbrick.cluster import SilhouetteVisualizer\n",
    "model = KMeans(8, random_state=42)\n",
    "visualizer = SilhouetteVisualizer(model, colors='yellowbrick')\n",
    "visualizer.fit(X_scaled_df)        # Fit the data to the visualizer\n",
    "visualizer.show()        # Finalize and render the figure"
   ]
  },
  {
   "cell_type": "markdown",
   "id": "d22cc23a-4651-423e-b97b-e9f9193f6564",
   "metadata": {},
   "source": [
    "## Export df with clusters"
   ]
  },
  {
   "cell_type": "code",
   "execution_count": null,
   "id": "c0ee9f35-0b5b-4103-8bf0-67fe30314e0d",
   "metadata": {},
   "outputs": [],
   "source": [
    "df_final = pd.concat([df, cluster_df[\"cluster\"]], axis=1)"
   ]
  },
  {
   "cell_type": "code",
   "execution_count": 29,
   "id": "49fb978f-bbae-43fb-a213-3b351d3bb25b",
   "metadata": {},
   "outputs": [],
   "source": [
    "df_final.to_csv('df_final.csv', index=False) "
   ]
  },
  {
   "cell_type": "markdown",
   "id": "a0ef4352-bf95-4d55-95d7-ad9e6a4ac609",
   "metadata": {},
   "source": [
    "## Saving with pickle"
   ]
  },
  {
   "cell_type": "code",
   "execution_count": 20,
   "id": "c48c1d80-817a-4281-b4d7-3ac89fc1ab76",
   "metadata": {},
   "outputs": [],
   "source": [
    "import pickle\n",
    "\n",
    "#scaler = StandardScaler()\n",
    "#model = KMeans()\n",
    "\n",
    "with open(\"Model/scaler.pickle\", \"wb\") as f:\n",
    "    pickle.dump(scaler,f)\n",
    "\n",
    "with open(\"Model/kmeans_8.pickle\", \"wb\") as f:\n",
    "    pickle.dump(kmeans,f)"
   ]
  },
  {
   "cell_type": "code",
   "execution_count": 21,
   "id": "1a57aa49-7f36-449d-95aa-fdbeb67bc268",
   "metadata": {},
   "outputs": [],
   "source": [
    "def save(model, filename = 'filename.pickle'):\n",
    "    with open(filename, \"wb\") as f:\n",
    "        pickle.dump(model, f)"
   ]
  },
  {
   "cell_type": "code",
   "execution_count": 22,
   "id": "dad6f851-cafa-4ec5-92ca-c3141100b4b3",
   "metadata": {},
   "outputs": [],
   "source": [
    "save(kmeans, \"kmeans8.pickle\")"
   ]
  },
  {
   "cell_type": "code",
   "execution_count": 23,
   "id": "fe177f37-8084-4a14-85c7-11a601bbd39c",
   "metadata": {},
   "outputs": [],
   "source": [
    "def load(filename = \"filename.pickle\"): \n",
    "    try: \n",
    "        with open(filename, \"rb\") as f: \n",
    "            return pickle.load(f) \n",
    "        \n",
    "    except FileNotFoundError: \n",
    "        print(\"File not found!\")"
   ]
  },
  {
   "cell_type": "code",
   "execution_count": 24,
   "id": "0715c2ea-9d26-41e4-9214-f9c2c1b634dc",
   "metadata": {},
   "outputs": [
    {
     "data": {
      "text/html": [
       "<style>#sk-container-id-2 {color: black;background-color: white;}#sk-container-id-2 pre{padding: 0;}#sk-container-id-2 div.sk-toggleable {background-color: white;}#sk-container-id-2 label.sk-toggleable__label {cursor: pointer;display: block;width: 100%;margin-bottom: 0;padding: 0.3em;box-sizing: border-box;text-align: center;}#sk-container-id-2 label.sk-toggleable__label-arrow:before {content: \"▸\";float: left;margin-right: 0.25em;color: #696969;}#sk-container-id-2 label.sk-toggleable__label-arrow:hover:before {color: black;}#sk-container-id-2 div.sk-estimator:hover label.sk-toggleable__label-arrow:before {color: black;}#sk-container-id-2 div.sk-toggleable__content {max-height: 0;max-width: 0;overflow: hidden;text-align: left;background-color: #f0f8ff;}#sk-container-id-2 div.sk-toggleable__content pre {margin: 0.2em;color: black;border-radius: 0.25em;background-color: #f0f8ff;}#sk-container-id-2 input.sk-toggleable__control:checked~div.sk-toggleable__content {max-height: 200px;max-width: 100%;overflow: auto;}#sk-container-id-2 input.sk-toggleable__control:checked~label.sk-toggleable__label-arrow:before {content: \"▾\";}#sk-container-id-2 div.sk-estimator input.sk-toggleable__control:checked~label.sk-toggleable__label {background-color: #d4ebff;}#sk-container-id-2 div.sk-label input.sk-toggleable__control:checked~label.sk-toggleable__label {background-color: #d4ebff;}#sk-container-id-2 input.sk-hidden--visually {border: 0;clip: rect(1px 1px 1px 1px);clip: rect(1px, 1px, 1px, 1px);height: 1px;margin: -1px;overflow: hidden;padding: 0;position: absolute;width: 1px;}#sk-container-id-2 div.sk-estimator {font-family: monospace;background-color: #f0f8ff;border: 1px dotted black;border-radius: 0.25em;box-sizing: border-box;margin-bottom: 0.5em;}#sk-container-id-2 div.sk-estimator:hover {background-color: #d4ebff;}#sk-container-id-2 div.sk-parallel-item::after {content: \"\";width: 100%;border-bottom: 1px solid gray;flex-grow: 1;}#sk-container-id-2 div.sk-label:hover label.sk-toggleable__label {background-color: #d4ebff;}#sk-container-id-2 div.sk-serial::before {content: \"\";position: absolute;border-left: 1px solid gray;box-sizing: border-box;top: 0;bottom: 0;left: 50%;z-index: 0;}#sk-container-id-2 div.sk-serial {display: flex;flex-direction: column;align-items: center;background-color: white;padding-right: 0.2em;padding-left: 0.2em;position: relative;}#sk-container-id-2 div.sk-item {position: relative;z-index: 1;}#sk-container-id-2 div.sk-parallel {display: flex;align-items: stretch;justify-content: center;background-color: white;position: relative;}#sk-container-id-2 div.sk-item::before, #sk-container-id-2 div.sk-parallel-item::before {content: \"\";position: absolute;border-left: 1px solid gray;box-sizing: border-box;top: 0;bottom: 0;left: 50%;z-index: -1;}#sk-container-id-2 div.sk-parallel-item {display: flex;flex-direction: column;z-index: 1;position: relative;background-color: white;}#sk-container-id-2 div.sk-parallel-item:first-child::after {align-self: flex-end;width: 50%;}#sk-container-id-2 div.sk-parallel-item:last-child::after {align-self: flex-start;width: 50%;}#sk-container-id-2 div.sk-parallel-item:only-child::after {width: 0;}#sk-container-id-2 div.sk-dashed-wrapped {border: 1px dashed gray;margin: 0 0.4em 0.5em 0.4em;box-sizing: border-box;padding-bottom: 0.4em;background-color: white;}#sk-container-id-2 div.sk-label label {font-family: monospace;font-weight: bold;display: inline-block;line-height: 1.2em;}#sk-container-id-2 div.sk-label-container {text-align: center;}#sk-container-id-2 div.sk-container {/* jupyter's `normalize.less` sets `[hidden] { display: none; }` but bootstrap.min.css set `[hidden] { display: none !important; }` so we also need the `!important` here to be able to override the default hidden behavior on the sphinx rendered scikit-learn.org. See: https://github.com/scikit-learn/scikit-learn/issues/21755 */display: inline-block !important;position: relative;}#sk-container-id-2 div.sk-text-repr-fallback {display: none;}</style><div id=\"sk-container-id-2\" class=\"sk-top-container\"><div class=\"sk-text-repr-fallback\"><pre>KMeans(n_clusters=7, n_init=&#x27;auto&#x27;, random_state=1234)</pre><b>In a Jupyter environment, please rerun this cell to show the HTML representation or trust the notebook. <br />On GitHub, the HTML representation is unable to render, please try loading this page with nbviewer.org.</b></div><div class=\"sk-container\" hidden><div class=\"sk-item\"><div class=\"sk-estimator sk-toggleable\"><input class=\"sk-toggleable__control sk-hidden--visually\" id=\"sk-estimator-id-2\" type=\"checkbox\" checked><label for=\"sk-estimator-id-2\" class=\"sk-toggleable__label sk-toggleable__label-arrow\">KMeans</label><div class=\"sk-toggleable__content\"><pre>KMeans(n_clusters=7, n_init=&#x27;auto&#x27;, random_state=1234)</pre></div></div></div></div></div>"
      ],
      "text/plain": [
       "KMeans(n_clusters=7, n_init='auto', random_state=1234)"
      ]
     },
     "execution_count": 24,
     "metadata": {},
     "output_type": "execute_result"
    }
   ],
   "source": [
    "load(\"kmeans8.pickle\")"
   ]
  },
  {
   "cell_type": "code",
   "execution_count": 25,
   "id": "846ad9fb-e1a6-47f3-8d3b-266ef289534b",
   "metadata": {},
   "outputs": [],
   "source": [
    "scaler= load(filename=\"Model/scaler.pickle\")"
   ]
  },
  {
   "cell_type": "code",
   "execution_count": 26,
   "id": "cb67805a-6d2b-4bf2-9a63-e6d9df5bafa2",
   "metadata": {},
   "outputs": [],
   "source": [
    "kmeans_model = load(filename=\"Model/kmeans_8.pickle\")"
   ]
  },
  {
   "cell_type": "code",
   "execution_count": 27,
   "id": "c060e86a-53b9-4b38-8847-58c71099da82",
   "metadata": {},
   "outputs": [
    {
     "data": {
      "text/html": [
       "<style>#sk-container-id-3 {color: black;background-color: white;}#sk-container-id-3 pre{padding: 0;}#sk-container-id-3 div.sk-toggleable {background-color: white;}#sk-container-id-3 label.sk-toggleable__label {cursor: pointer;display: block;width: 100%;margin-bottom: 0;padding: 0.3em;box-sizing: border-box;text-align: center;}#sk-container-id-3 label.sk-toggleable__label-arrow:before {content: \"▸\";float: left;margin-right: 0.25em;color: #696969;}#sk-container-id-3 label.sk-toggleable__label-arrow:hover:before {color: black;}#sk-container-id-3 div.sk-estimator:hover label.sk-toggleable__label-arrow:before {color: black;}#sk-container-id-3 div.sk-toggleable__content {max-height: 0;max-width: 0;overflow: hidden;text-align: left;background-color: #f0f8ff;}#sk-container-id-3 div.sk-toggleable__content pre {margin: 0.2em;color: black;border-radius: 0.25em;background-color: #f0f8ff;}#sk-container-id-3 input.sk-toggleable__control:checked~div.sk-toggleable__content {max-height: 200px;max-width: 100%;overflow: auto;}#sk-container-id-3 input.sk-toggleable__control:checked~label.sk-toggleable__label-arrow:before {content: \"▾\";}#sk-container-id-3 div.sk-estimator input.sk-toggleable__control:checked~label.sk-toggleable__label {background-color: #d4ebff;}#sk-container-id-3 div.sk-label input.sk-toggleable__control:checked~label.sk-toggleable__label {background-color: #d4ebff;}#sk-container-id-3 input.sk-hidden--visually {border: 0;clip: rect(1px 1px 1px 1px);clip: rect(1px, 1px, 1px, 1px);height: 1px;margin: -1px;overflow: hidden;padding: 0;position: absolute;width: 1px;}#sk-container-id-3 div.sk-estimator {font-family: monospace;background-color: #f0f8ff;border: 1px dotted black;border-radius: 0.25em;box-sizing: border-box;margin-bottom: 0.5em;}#sk-container-id-3 div.sk-estimator:hover {background-color: #d4ebff;}#sk-container-id-3 div.sk-parallel-item::after {content: \"\";width: 100%;border-bottom: 1px solid gray;flex-grow: 1;}#sk-container-id-3 div.sk-label:hover label.sk-toggleable__label {background-color: #d4ebff;}#sk-container-id-3 div.sk-serial::before {content: \"\";position: absolute;border-left: 1px solid gray;box-sizing: border-box;top: 0;bottom: 0;left: 50%;z-index: 0;}#sk-container-id-3 div.sk-serial {display: flex;flex-direction: column;align-items: center;background-color: white;padding-right: 0.2em;padding-left: 0.2em;position: relative;}#sk-container-id-3 div.sk-item {position: relative;z-index: 1;}#sk-container-id-3 div.sk-parallel {display: flex;align-items: stretch;justify-content: center;background-color: white;position: relative;}#sk-container-id-3 div.sk-item::before, #sk-container-id-3 div.sk-parallel-item::before {content: \"\";position: absolute;border-left: 1px solid gray;box-sizing: border-box;top: 0;bottom: 0;left: 50%;z-index: -1;}#sk-container-id-3 div.sk-parallel-item {display: flex;flex-direction: column;z-index: 1;position: relative;background-color: white;}#sk-container-id-3 div.sk-parallel-item:first-child::after {align-self: flex-end;width: 50%;}#sk-container-id-3 div.sk-parallel-item:last-child::after {align-self: flex-start;width: 50%;}#sk-container-id-3 div.sk-parallel-item:only-child::after {width: 0;}#sk-container-id-3 div.sk-dashed-wrapped {border: 1px dashed gray;margin: 0 0.4em 0.5em 0.4em;box-sizing: border-box;padding-bottom: 0.4em;background-color: white;}#sk-container-id-3 div.sk-label label {font-family: monospace;font-weight: bold;display: inline-block;line-height: 1.2em;}#sk-container-id-3 div.sk-label-container {text-align: center;}#sk-container-id-3 div.sk-container {/* jupyter's `normalize.less` sets `[hidden] { display: none; }` but bootstrap.min.css set `[hidden] { display: none !important; }` so we also need the `!important` here to be able to override the default hidden behavior on the sphinx rendered scikit-learn.org. See: https://github.com/scikit-learn/scikit-learn/issues/21755 */display: inline-block !important;position: relative;}#sk-container-id-3 div.sk-text-repr-fallback {display: none;}</style><div id=\"sk-container-id-3\" class=\"sk-top-container\"><div class=\"sk-text-repr-fallback\"><pre>KMeans(n_clusters=7, n_init=&#x27;auto&#x27;, random_state=1234)</pre><b>In a Jupyter environment, please rerun this cell to show the HTML representation or trust the notebook. <br />On GitHub, the HTML representation is unable to render, please try loading this page with nbviewer.org.</b></div><div class=\"sk-container\" hidden><div class=\"sk-item\"><div class=\"sk-estimator sk-toggleable\"><input class=\"sk-toggleable__control sk-hidden--visually\" id=\"sk-estimator-id-3\" type=\"checkbox\" checked><label for=\"sk-estimator-id-3\" class=\"sk-toggleable__label sk-toggleable__label-arrow\">KMeans</label><div class=\"sk-toggleable__content\"><pre>KMeans(n_clusters=7, n_init=&#x27;auto&#x27;, random_state=1234)</pre></div></div></div></div></div>"
      ],
      "text/plain": [
       "KMeans(n_clusters=7, n_init='auto', random_state=1234)"
      ]
     },
     "execution_count": 27,
     "metadata": {},
     "output_type": "execute_result"
    }
   ],
   "source": [
    "kmeans_model"
   ]
  },
  {
   "cell_type": "code",
   "execution_count": 28,
   "id": "274f7bfd-7db7-4254-bcd1-3d2d4a6081c7",
   "metadata": {},
   "outputs": [],
   "source": [
    "scaler2 = load(\"Model/scaler.pickle\")"
   ]
  },
  {
   "cell_type": "code",
   "execution_count": null,
   "id": "1f12b786-254b-481b-98e2-6ce2cc44cc99",
   "metadata": {},
   "outputs": [],
   "source": []
  },
  {
   "cell_type": "code",
   "execution_count": null,
   "id": "397d7fd5-20c6-4ac5-b88e-25112ceaca40",
   "metadata": {},
   "outputs": [],
   "source": []
  },
  {
   "cell_type": "code",
   "execution_count": null,
   "id": "0804d880-7f1e-4e64-81f6-8f43662455ca",
   "metadata": {},
   "outputs": [],
   "source": []
  },
  {
   "cell_type": "code",
   "execution_count": null,
   "id": "6747b488-7cbb-4286-a9cc-0554478fc7d9",
   "metadata": {},
   "outputs": [],
   "source": []
  },
  {
   "cell_type": "code",
   "execution_count": null,
   "id": "44e5a14a-64ce-4b09-899b-02fe19534724",
   "metadata": {},
   "outputs": [],
   "source": []
  }
 ],
 "metadata": {
  "kernelspec": {
   "display_name": "Python 3 (ipykernel)",
   "language": "python",
   "name": "python3"
  },
  "language_info": {
   "codemirror_mode": {
    "name": "ipython",
    "version": 3
   },
   "file_extension": ".py",
   "mimetype": "text/x-python",
   "name": "python",
   "nbconvert_exporter": "python",
   "pygments_lexer": "ipython3",
   "version": "3.11.5"
  }
 },
 "nbformat": 4,
 "nbformat_minor": 5
}
