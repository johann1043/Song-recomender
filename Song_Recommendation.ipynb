{
 "cells": [
  {
   "cell_type": "code",
   "execution_count": 24,
   "id": "fb842ebc-eb1e-4aab-af0a-c42ef8d08218",
   "metadata": {},
   "outputs": [],
   "source": [
    "import numpy as np\n",
    "import spotipy\n",
    "import pandas as pd\n",
    "import json\n",
    "from spotipy.oauth2 import SpotifyClientCredentials\n",
    "import config\n",
    "import pprint\n",
    "from IPython.display import display, IFrame\n",
    "import pickle\n",
    "from sklearn.preprocessing import StandardScaler\n",
    "from sklearn import datasets\n",
    "from sklearn.cluster import KMeans\n",
    "import matplotlib.pyplot as plt\n",
    "from sklearn.metrics import silhouette_score\n",
    "\n",
    "#Initialize SpotiPy with user credentials\n",
    "sp = spotipy.Spotify(auth_manager=SpotifyClientCredentials(client_id= config.client_id, client_secret= config.client_secret))"
   ]
  },
  {
   "cell_type": "code",
   "execution_count": 25,
   "id": "36fc6d4f-ecb8-438b-874f-528f8d24eaaf",
   "metadata": {},
   "outputs": [],
   "source": [
    "url = 'df_final.csv'\n",
    "df = pd.read_csv(url)"
   ]
  },
  {
   "cell_type": "code",
   "execution_count": 28,
   "id": "cff06d50-f163-4c62-98af-82a446215677",
   "metadata": {
    "scrolled": true
   },
   "outputs": [],
   "source": [
    "results = {}\n",
    "\n",
    "def start(start=True):\n",
    "    global results  \n",
    "    if start == True:\n",
    "        song = input('Please input your Song: ')\n",
    "    else:\n",
    "        song = input('We could not find the correct song please try again: ')\n",
    "    results = sp.search(q=song, limit=5)  # This modifies the global `results` variable\n",
    "    print('We have found 5 songs. Please enter a number from 1 to 5, which song is yours (6 if the Song is not in the List):')\n",
    "    print(' ')\n",
    "    for index in range(3):\n",
    "        print(f'Song {index + 1}:')\n",
    "        track_id = results[\"tracks\"][\"items\"][index]['id']\n",
    "        iframe = IFrame(src=f\"https://open.spotify.com/embed/track/{track_id}\",\n",
    "                        width=\"320\",\n",
    "                        height=\"80\",\n",
    "                        frameborder=\"0\",\n",
    "                        allowtransparency=\"true\",\n",
    "                        allow=\"encrypted-media\")\n",
    "        display(iframe)\n",
    "    get_song()  \n",
    "\n",
    "\n",
    "\n",
    "def get_song():\n",
    "    song_index = input('Please input your Song number:')\n",
    "    try:\n",
    "        song_index = int(song_index) # Convert input to an integer\n",
    "        if song_index == 4:\n",
    "            start(start=False)\n",
    "            return \n",
    "        else:\n",
    "            # Make sure the song_index is within the valid range before accessing the list\n",
    "            if 1 <= song_index <= 3:\n",
    "                track_id = results[\"tracks\"][\"items\"][song_index - 1]['id']\n",
    "                run_model(track_id)\n",
    "            else:\n",
    "                print(\"Invalid input. Please enter a number between 1 and 3, or 4 if the song is not in the list.\")\n",
    "                get_song()\n",
    "    except ValueError:\n",
    "        # Handle the case where the input is not an integer\n",
    "        print(\"Please enter a valid number.\")\n",
    "        get_song()\n",
    "\n",
    "\n",
    "def run_model(track_id):\n",
    "    global song_df\n",
    "    input_track_audio = sp.audio_features(track_id)\n",
    "    song_df = pd.DataFrame(input_track_audio)\n",
    "    song_df = song_df.drop(['type', 'id', 'uri', 'track_href', 'analysis_url', 'loudness', 'mode', 'duration_ms'], axis=1)\n",
    "\n",
    "    scaler = load(\"Model/scaler.pickle\")\n",
    "    y_scaled = scaler.transform(song_df)\n",
    "    y_scaled_df = pd.DataFrame(y_scaled, columns=song_df.columns)\n",
    "\n",
    "    kmeans = load('kmeans8.pickle')\n",
    "    pred = kmeans.predict(y_scaled_df)[0]\n",
    "    recomend_song(pred)\n",
    "\n",
    "def recomend_song(pred):\n",
    "    filtered_df = df[df['cluster'] == pred]\n",
    "    random_song = filtered_df.sample(n=1)\n",
    "    recommended_id = random_song['id'].values[0]\n",
    "    print('We have a really good song recommendation for you:')\n",
    "    print(' ')\n",
    "    iframe = IFrame(src=f\"https://open.spotify.com/embed/track/{recommended_id}\",\n",
    "                        width=\"320\",\n",
    "                        height=\"80\",\n",
    "                        frameborder=\"0\",\n",
    "                        allowtransparency=\"true\",\n",
    "                        allow=\"encrypted-media\")\n",
    "    display(iframe)\n",
    "\n",
    "def load(filename = \"kmeans8.pickle\"): \n",
    "    try: \n",
    "        with open(filename, \"rb\") as f: \n",
    "            return pickle.load(f) \n",
    "        \n",
    "    except FileNotFoundError: \n",
    "        print(\"File not found!\")"
   ]
  },
  {
   "cell_type": "code",
   "execution_count": 29,
   "id": "9f90319b-8ffe-4a89-bc27-df6d5923b3dc",
   "metadata": {},
   "outputs": [
    {
     "name": "stdin",
     "output_type": "stream",
     "text": [
      "Please input your Song:  hello\n"
     ]
    },
    {
     "name": "stdout",
     "output_type": "stream",
     "text": [
      "We have found 5 songs. Please enter a number from 1 to 5, which song is yours (6 if the Song is not in the List):\n",
      " \n",
      "Song 1:\n"
     ]
    },
    {
     "data": {
      "text/html": [
       "\n",
       "        <iframe\n",
       "            width=\"320\"\n",
       "            height=\"80\"\n",
       "            src=\"https://open.spotify.com/embed/track/62PaSfnXSMyLshYJrlTuL3?frameborder=0&allowtransparency=true&allow=encrypted-media\"\n",
       "            frameborder=\"0\"\n",
       "            allowfullscreen\n",
       "            \n",
       "        ></iframe>\n",
       "        "
      ],
      "text/plain": [
       "<IPython.lib.display.IFrame at 0x1a33da10390>"
      ]
     },
     "metadata": {},
     "output_type": "display_data"
    },
    {
     "name": "stdout",
     "output_type": "stream",
     "text": [
      "Song 2:\n"
     ]
    },
    {
     "data": {
      "text/html": [
       "\n",
       "        <iframe\n",
       "            width=\"320\"\n",
       "            height=\"80\"\n",
       "            src=\"https://open.spotify.com/embed/track/3sl4dcqSwxHVnLfqwF2jly?frameborder=0&allowtransparency=true&allow=encrypted-media\"\n",
       "            frameborder=\"0\"\n",
       "            allowfullscreen\n",
       "            \n",
       "        ></iframe>\n",
       "        "
      ],
      "text/plain": [
       "<IPython.lib.display.IFrame at 0x1a33ee7a450>"
      ]
     },
     "metadata": {},
     "output_type": "display_data"
    },
    {
     "name": "stdout",
     "output_type": "stream",
     "text": [
      "Song 3:\n"
     ]
    },
    {
     "data": {
      "text/html": [
       "\n",
       "        <iframe\n",
       "            width=\"320\"\n",
       "            height=\"80\"\n",
       "            src=\"https://open.spotify.com/embed/track/7qwt4xUIqQWCu1DJf96g2k?frameborder=0&allowtransparency=true&allow=encrypted-media\"\n",
       "            frameborder=\"0\"\n",
       "            allowfullscreen\n",
       "            \n",
       "        ></iframe>\n",
       "        "
      ],
      "text/plain": [
       "<IPython.lib.display.IFrame at 0x1a33da10390>"
      ]
     },
     "metadata": {},
     "output_type": "display_data"
    },
    {
     "name": "stdin",
     "output_type": "stream",
     "text": [
      "Please input your Song number: 1\n"
     ]
    },
    {
     "name": "stdout",
     "output_type": "stream",
     "text": [
      "We have a really good song recommendation for you:\n",
      " \n"
     ]
    },
    {
     "data": {
      "text/html": [
       "\n",
       "        <iframe\n",
       "            width=\"320\"\n",
       "            height=\"80\"\n",
       "            src=\"https://open.spotify.com/embed/track/6y2Kaz9QI01XBKJ8mTb7Pf?frameborder=0&allowtransparency=true&allow=encrypted-media\"\n",
       "            frameborder=\"0\"\n",
       "            allowfullscreen\n",
       "            \n",
       "        ></iframe>\n",
       "        "
      ],
      "text/plain": [
       "<IPython.lib.display.IFrame at 0x1a3403ac090>"
      ]
     },
     "metadata": {},
     "output_type": "display_data"
    }
   ],
   "source": [
    "start()"
   ]
  },
  {
   "cell_type": "code",
   "execution_count": null,
   "id": "cb722423-3320-427f-89bd-b75a995408c8",
   "metadata": {},
   "outputs": [],
   "source": []
  }
 ],
 "metadata": {
  "kernelspec": {
   "display_name": "Python 3 (ipykernel)",
   "language": "python",
   "name": "python3"
  },
  "language_info": {
   "codemirror_mode": {
    "name": "ipython",
    "version": 3
   },
   "file_extension": ".py",
   "mimetype": "text/x-python",
   "name": "python",
   "nbconvert_exporter": "python",
   "pygments_lexer": "ipython3",
   "version": "3.11.5"
  }
 },
 "nbformat": 4,
 "nbformat_minor": 5
}
